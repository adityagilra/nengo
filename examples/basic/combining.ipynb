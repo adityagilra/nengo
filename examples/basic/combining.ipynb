{
 "metadata": {
  "anaconda-cloud": {},
  "kernelspec": {
   "display_name": "Python [default]",
   "language": "python",
   "name": "python3"
  },
  "language_info": {
   "codemirror_mode": {
    "name": "ipython",
    "version": 3
   },
   "file_extension": ".py",
   "mimetype": "text/x-python",
   "name": "python",
   "nbconvert_exporter": "python",
   "pygments_lexer": "ipython3",
   "version": "3.5.2"
  },
  "name": "",
  "widgets": {
   "state": {
    "08e06c37873f43e7872599beed70de84": {
     "views": [
      {
       "cell_index": 11
      }
     ]
    },
    "72b26e07b8f149208d84317a7bd32e98": {
     "views": [
      {
       "cell_index": 11
      }
     ]
    },
    "f7c28b6954d14ebc92edd748ae3bc838": {
     "views": [
      {
       "cell_index": 11
      }
     ]
    }
   },
   "version": "1.2.0"
  }
 },
 "nbformat": 3,
 "nbformat_minor": 0,
 "worksheets": [
  {
   "cells": [
    {
     "cell_type": "markdown",
     "metadata": {},
     "source": [
      "# Nengo Example: Combining\n",
      "\n",
      "This example demonstrates how to create a neuronal ensemble that will combine two 1-D inputs into one 2-D representation."
     ]
    },
    {
     "cell_type": "code",
     "collapsed": false,
     "input": [
      "import matplotlib.pyplot as plt\n",
      "%matplotlib inline\n",
      "\n",
      "import nengo\n",
      "%load_ext nengo.ipynb"
     ],
     "language": "python",
     "metadata": {},
     "outputs": [
      {
       "javascript": [
        "\n",
        "    define('nengo', [\"jupyter-js-widgets\"], function(widgets) {\n",
        "        \n",
        "      var NengoProgressBar = widgets.DOMWidgetView.extend({\n",
        "        render: function() {\n",
        "          // Work-around for messed up CSS in IPython 4\n",
        "          $('.widget-subarea').css({flex: '2 1 0%'});\n",
        "          // $el is the DOM of the widget\n",
        "          this.$el.css({width: '100%', marginBottom: '0.5em'});\n",
        "          this.$el.html([\n",
        "            '<div style=\"',\n",
        "                'width: 100%;',\n",
        "                'border: 1px solid #cfcfcf;',\n",
        "                'border-radius: 4px;',\n",
        "                'text-align: center;',\n",
        "                'position: relative;\">',\n",
        "              '<div class=\"pb-text\" style=\"',\n",
        "                  'position: absolute;',\n",
        "                  'width: 100%;\">',\n",
        "                '0%',\n",
        "              '</div>',\n",
        "              '<div class=\"pb-bar\" style=\"',\n",
        "                  'background-color: #bdd2e6;',\n",
        "                  'width: 0%;',\n",
        "                  'transition: width 0.1s linear;\">',\n",
        "                '&nbsp;',\n",
        "              '</div>',\n",
        "            '</div>'].join(''));\n",
        "        },\n",
        "\n",
        "        update: function() {\n",
        "          this.$el.css({width: '100%', marginBottom: '0.5em'});\n",
        "          var progress = 100 * this.model.get('progress');\n",
        "          var text = this.model.get('text');\n",
        "          this.$el.find('div.pb-bar').width(progress.toString() + '%');\n",
        "          this.$el.find('div.pb-text').html(text);\n",
        "        },\n",
        "      });\n",
        "    \n",
        "\n",
        "      return {\n",
        "        NengoProgressBar: NengoProgressBar\n",
        "      };\n",
        "    });"
       ],
       "metadata": {},
       "output_type": "display_data",
       "text": [
        "<IPython.core.display.Javascript object>"
       ]
      }
     ],
     "prompt_number": 1
    },
    {
     "cell_type": "markdown",
     "metadata": {},
     "source": [
      "## Step 1: Create the neural populations \n",
      "\n",
      "Our model consists of three ensembles, two input ensembles and one 2-D ensemble that will represent the two inputs as one two-dimensional signal."
     ]
    },
    {
     "cell_type": "code",
     "collapsed": false,
     "input": [
      "model = nengo.Network(label='Combining')\n",
      "with model:\n",
      "    # Our input ensembles consist of 100 leaky integrate-and-fire neurons,\n",
      "    # representing a one-dimensional signal\n",
      "    A = nengo.Ensemble(100, dimensions=1)\n",
      "    B = nengo.Ensemble(100, dimensions=1)\n",
      "    \n",
      "    # The output ensemble consists of 200 leaky integrate-and-fire neurons,\n",
      "    # representing a two-dimensional signal\n",
      "    output = nengo.Ensemble(200, dimensions=2, label='2D Population')"
     ],
     "language": "python",
     "metadata": {},
     "outputs": [],
     "prompt_number": 2
    },
    {
     "cell_type": "markdown",
     "metadata": {},
     "source": [
      "## Step 2: Create input for the model\n",
      "\n",
      "We will use sine and cosine waves as examples of continuously changing signals."
     ]
    },
    {
     "cell_type": "code",
     "collapsed": false,
     "input": [
      "import numpy as np\n",
      "with model:\n",
      "    # Create input nodes generating the sine and cosine\n",
      "    sin = nengo.Node(output=np.sin)\n",
      "    cos = nengo.Node(output=np.cos)"
     ],
     "language": "python",
     "metadata": {},
     "outputs": [],
     "prompt_number": 3
    },
    {
     "cell_type": "heading",
     "level": 2,
     "metadata": {},
     "source": [
      "Step 3: Connect the network elements"
     ]
    },
    {
     "cell_type": "code",
     "collapsed": false,
     "input": [
      "with model:\n",
      "    nengo.Connection(sin, A)\n",
      "    nengo.Connection(cos, B)\n",
      "    \n",
      "    # The square brackets define which dimension the input will project to\n",
      "    nengo.Connection(A, output[1])\n",
      "    nengo.Connection(B, output[0])"
     ],
     "language": "python",
     "metadata": {},
     "outputs": [],
     "prompt_number": 4
    },
    {
     "cell_type": "markdown",
     "metadata": {},
     "source": [
      "## Step 4: Probe outputs\n",
      "\n",
      "Anything that is probed will collect the data it produces over time, allowing us to analyze and visualize it later."
     ]
    },
    {
     "cell_type": "code",
     "collapsed": false,
     "input": [
      "with model:\n",
      "    sin_probe = nengo.Probe(sin)\n",
      "    cos_probe = nengo.Probe(cos)\n",
      "    A_probe = nengo.Probe(A, synapse=0.01)  # 10ms filter\n",
      "    B_probe = nengo.Probe(B, synapse=0.01)  # 10ms filter\n",
      "    out_probe = nengo.Probe(output, synapse=0.01)  # 10ms filter"
     ],
     "language": "python",
     "metadata": {},
     "outputs": [],
     "prompt_number": 5
    },
    {
     "cell_type": "heading",
     "level": 2,
     "metadata": {},
     "source": [
      "Step 5: Run the model"
     ]
    },
    {
     "cell_type": "code",
     "collapsed": false,
     "input": [
      "# Create our simulator\n",
      "with nengo.Simulator(model) as sim:\n",
      "    # Run it for 5 seconds\n",
      "    sim.run(5)"
     ],
     "language": "python",
     "metadata": {},
     "outputs": [],
     "prompt_number": 6
    },
    {
     "cell_type": "heading",
     "level": 2,
     "metadata": {},
     "source": [
      "Step 6: Plot the results"
     ]
    },
    {
     "cell_type": "code",
     "collapsed": false,
     "input": [
      "# Plot the decoded output of the ensemble\n",
      "plt.plot(sim.trange(), sim.data[out_probe][:, 0], 'b', label=\"2D output\")\n",
      "plt.plot(sim.trange(), sim.data[out_probe][:, 1], 'g', label=\"2D output\")\n",
      "plt.plot(sim.trange(), sim.data[A_probe], 'r', label=\"A output\")\n",
      "plt.plot(sim.trange(), sim.data[sin_probe], 'k', label=\"Sine\")\n",
      "plt.legend()"
     ],
     "language": "python",
     "metadata": {},
     "outputs": [
      {
       "metadata": {},
       "output_type": "pyout",
       "prompt_number": 7,
       "text": [
        "<matplotlib.legend.Legend at 0x111414a58>"
       ]
      },
      {
       "metadata": {},
       "output_type": "display_data",
       "png": "[encoded data removed]",
       "text": [
        "<matplotlib.figure.Figure at 0x10d88c4e0>"
       ]
      }
     ],
     "prompt_number": 7
    },
    {
     "cell_type": "markdown",
     "metadata": {},
     "source": [
      "The graph shows that the input signal (Sine), the output from the 1D population (A output), and the 2D population (green line) are all equal.  The other dimension in the 2D population is shown in blue."
     ]
    }
   ],
   "metadata": {}
  }
 ]
}

{
 "metadata": {
  "anaconda-cloud": {},
  "kernelspec": {
   "display_name": "Python [default]",
   "language": "python",
   "name": "python3"
  },
  "language_info": {
   "codemirror_mode": {
    "name": "ipython",
    "version": 3
   },
   "file_extension": ".py",
   "mimetype": "text/x-python",
   "name": "python",
   "nbconvert_exporter": "python",
   "pygments_lexer": "ipython3",
   "version": "3.5.2"
  },
  "name": "",
  "widgets": {
   "state": {
    "23fcca996deb40dc9182ef31aef7d142": {
     "views": [
      {
       "cell_index": 9
      }
     ]
    },
    "bb24d126b7a44c6188e5d86cba0d1899": {
     "views": [
      {
       "cell_index": 9
      }
     ]
    },
    "dd032c209d604af3a2db5c027778f00c": {
     "views": [
      {
       "cell_index": 9
      }
     ]
    },
    "f495debf6c1244cda2ec11e45b3176c9": {
     "views": [
      {
       "cell_index": 9
      }
     ]
    },
    "f9a062a662b640449b0f57f7fe8998c7": {
     "views": [
      {
       "cell_index": 9
      }
     ]
    }
   },
   "version": "1.2.0"
  }
 },
 "nbformat": 3,
 "nbformat_minor": 0,
 "worksheets": [
  {
   "cells": [
    {
     "cell_type": "markdown",
     "metadata": {},
     "source": [
      "# Nengo Example: Controlled Oscillator\n",
      "\n",
      "The controlled oscillator is an oscillator with an extra input that controls the frequency of the oscillation.\n",
      "\n",
      "To implement a basic oscillator, we would use a neural ensemble of two dimensions that has the following dynamics:\n",
      "\n",
      "$$\n",
      "\\dot{x} = \\begin{bmatrix} 0 && - \\omega \\\\\\ \\omega && 0 \\end{bmatrix} x\n",
      "$$\n",
      "\n",
      "where the frequency of oscillation is $\\omega \\over {2 \\pi}$ Hz.\n",
      "\n",
      "We need the neurons to represent three variables, $x_0$, $x_1$, and $\\omega$.  According the the dynamics principle of the NEF, in order to implement some particular dynamics, we need to convert this dynamics equation into a feedback function:\n",
      "\n",
      "$$ \\begin{align*}\n",
      "\\dot{x} &= f(x) \\\\\\\n",
      "&\\implies f_{feedback}(x) = x + \\tau f(x)\n",
      "\\end{align*}\n",
      "$$\n",
      "\n",
      "where $\\tau$ is the post-synaptic time constant of the feedback connection.\n",
      "\n",
      "In this case, the feedback function to be computed is \n",
      "\n",
      "$$\n",
      "\\begin{align*}\n",
      "f_{feedback}(x) &= x + \\tau \\begin{bmatrix} 0 && - \\omega \\\\\\ \\omega && 0 \\end{bmatrix} x \\\\\\ \n",
      "                &= \\begin{bmatrix} x_0 - \\tau \\cdot \\omega \\cdot x_1 \\\\\\ x_1 + \\tau \\cdot \\omega \\cdot x_0\\end{bmatrix}\n",
      "\\end{align*}\n",
      "$$\n",
      "\n",
      "Since the neural ensemble represents all three variables but the dynamics only affects the first two ($x_0$, $x_1$), we need the feedback function to not affect that last variable.  We do this by adding a zero to the feedback function.\n",
      "\n",
      "$$\n",
      "f_{feedback}(x) = \\begin{bmatrix} x_0 - \\tau \\cdot \\omega \\cdot x_1 \\\\\\ x_1 + \\tau \\cdot \\omega \\cdot x_0 \\\\\\ 0 \\end{bmatrix}\n",
      "$$\n",
      "\n",
      "We also generally want to keep the ranges of variables represented within an ensemble to be approximately the same.  In this case, if $x_0$ and $x_1$ are between -1 and 1, $\\omega$ will also be between -1 and 1, giving a frequency range of $-1 \\over {2 \\pi}$ to $1 \\over {2 \\pi}$.  To increase this range, we introduce a scaling factor to $\\omega$ called $\\omega_{max}$.\n",
      "\n",
      "$$\n",
      "f_{feedback}(x) = \\begin{bmatrix} x_0 - \\tau \\cdot \\omega \\cdot \\omega_{max} \\cdot x_1 \\\\\\ x_1 + \\tau \\cdot \\omega \\cdot \\omega_{max} \\cdot x_0 \\\\\\ 0 \\end{bmatrix}\n",
      "$$\n",
      "\n"
     ]
    },
    {
     "cell_type": "code",
     "collapsed": false,
     "input": [
      "import matplotlib.pyplot as plt\n",
      "%matplotlib inline\n",
      "\n",
      "import nengo\n",
      "%load_ext nengo.ipynb"
     ],
     "language": "python",
     "metadata": {},
     "outputs": [
      {
       "javascript": [
        "\n",
        "    define('nengo', [\"jupyter-js-widgets\"], function(widgets) {\n",
        "        \n",
        "      var NengoProgressBar = widgets.DOMWidgetView.extend({\n",
        "        render: function() {\n",
        "          // Work-around for messed up CSS in IPython 4\n",
        "          $('.widget-subarea').css({flex: '2 1 0%'});\n",
        "          // $el is the DOM of the widget\n",
        "          this.$el.css({width: '100%', marginBottom: '0.5em'});\n",
        "          this.$el.html([\n",
        "            '<div style=\"',\n",
        "                'width: 100%;',\n",
        "                'border: 1px solid #cfcfcf;',\n",
        "                'border-radius: 4px;',\n",
        "                'text-align: center;',\n",
        "                'position: relative;\">',\n",
        "              '<div class=\"pb-text\" style=\"',\n",
        "                  'position: absolute;',\n",
        "                  'width: 100%;\">',\n",
        "                '0%',\n",
        "              '</div>',\n",
        "              '<div class=\"pb-bar\" style=\"',\n",
        "                  'background-color: #bdd2e6;',\n",
        "                  'width: 0%;',\n",
        "                  'transition: width 0.1s linear;\">',\n",
        "                '&nbsp;',\n",
        "              '</div>',\n",
        "            '</div>'].join(''));\n",
        "        },\n",
        "\n",
        "        update: function() {\n",
        "          this.$el.css({width: '100%', marginBottom: '0.5em'});\n",
        "          var progress = 100 * this.model.get('progress');\n",
        "          var text = this.model.get('text');\n",
        "          this.$el.find('div.pb-bar').width(progress.toString() + '%');\n",
        "          this.$el.find('div.pb-text').html(text);\n",
        "        },\n",
        "      });\n",
        "    \n",
        "\n",
        "      return {\n",
        "        NengoProgressBar: NengoProgressBar\n",
        "      };\n",
        "    });"
       ],
       "metadata": {},
       "output_type": "display_data",
       "text": [
        "<IPython.core.display.Javascript object>"
       ]
      }
     ],
     "prompt_number": 1
    },
    {
     "cell_type": "heading",
     "level": 2,
     "metadata": {},
     "source": [
      "Step 1: Create the network"
     ]
    },
    {
     "cell_type": "code",
     "collapsed": false,
     "input": [
      "tau = 0.1   # Post-synaptic time constant for feedback\n",
      "w_max = 10  # Maximum frequency is w_max/(2*pi)\n",
      "\n",
      "model = nengo.Network(label='Controlled Oscillator')\n",
      "with model:\n",
      "    # The ensemble for the oscillator\n",
      "    oscillator = nengo.Ensemble(500, dimensions=3, radius=1.7)\n",
      "    \n",
      "    # The feedback connection\n",
      "    def feedback(x):\n",
      "        x0, x1, w = x  # These are the three variables stored in the ensemble\n",
      "        return x0 - w*w_max*tau*x1, x1 + w*w_max*tau*x0, 0\n",
      "    nengo.Connection(oscillator, oscillator, function=feedback, synapse=tau)\n",
      "    \n",
      "    # The ensemble for controlling the speed of oscillation\n",
      "    frequency = nengo.Ensemble(100, dimensions=1)\n",
      "    \n",
      "    nengo.Connection(frequency, oscillator[2])"
     ],
     "language": "python",
     "metadata": {},
     "outputs": [],
     "prompt_number": 2
    },
    {
     "cell_type": "heading",
     "level": 2,
     "metadata": {},
     "source": [
      "Step 2: Create the input"
     ]
    },
    {
     "cell_type": "code",
     "collapsed": false,
     "input": [
      "from nengo.utils.functions import piecewise\n",
      "with model:\n",
      "    # We need a quick input at the beginning to start the oscillator\n",
      "    initial = nengo.Node(piecewise({0: [1, 0, 0], 0.15: [0, 0, 0]}))\n",
      "    nengo.Connection(initial, oscillator)\n",
      "    \n",
      "    # Vary the speed over time\n",
      "    input_frequency = nengo.Node(piecewise({0: 1, 1: 0.5, 2: 0, 3: -0.5, 4: -1}))\n",
      "    \n",
      "    nengo.Connection(input_frequency, frequency)"
     ],
     "language": "python",
     "metadata": {},
     "outputs": [],
     "prompt_number": 3
    },
    {
     "cell_type": "heading",
     "level": 2,
     "metadata": {},
     "source": [
      "Step 3: Add Probes"
     ]
    },
    {
     "cell_type": "code",
     "collapsed": false,
     "input": [
      "with model:\n",
      "    # Indicate which values to record\n",
      "    oscillator_probe = nengo.Probe(oscillator, synapse=0.03)"
     ],
     "language": "python",
     "metadata": {},
     "outputs": [],
     "prompt_number": 4
    },
    {
     "cell_type": "heading",
     "level": 2,
     "metadata": {},
     "source": [
      "Step 4: Run the Model"
     ]
    },
    {
     "cell_type": "code",
     "collapsed": false,
     "input": [
      "with nengo.Simulator(model) as sim:\n",
      "    sim.run(5)"
     ],
     "language": "python",
     "metadata": {},
     "outputs": [],
     "prompt_number": 5
    },
    {
     "cell_type": "heading",
     "level": 2,
     "metadata": {},
     "source": [
      "Step 5: Plot the Results"
     ]
    },
    {
     "cell_type": "code",
     "collapsed": false,
     "input": [
      "plt.plot(sim.trange(), sim.data[oscillator_probe])\n",
      "plt.xlabel('Time (s)')\n",
      "plt.legend(['$x_0$', '$x_1$', '$\\omega$']);"
     ],
     "language": "python",
     "metadata": {},
     "outputs": [
      {
       "metadata": {},
       "output_type": "display_data",
       "png": "[encoded data removed]",
       "text": [
        "<matplotlib.figure.Figure at 0x105bd86d8>"
       ]
      }
     ],
     "prompt_number": 6
    }
   ],
   "metadata": {}
  }
 ]
}
